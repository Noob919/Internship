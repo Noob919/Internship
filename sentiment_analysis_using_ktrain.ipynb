{
  "nbformat": 4,
  "nbformat_minor": 0,
  "metadata": {
    "colab": {
      "name": "sentiment_analysis_using_ktrain.ipynb",
      "provenance": [],
      "mount_file_id": "1XjJ6ry6X8G71RYVTiKh3G4Cnzh3I1C2y",
      "authorship_tag": "ABX9TyMDNw/r7LlwiHcXPu4t4DWa",
      "include_colab_link": true
    },
    "kernelspec": {
      "name": "python3",
      "display_name": "Python 3"
    },
    "language_info": {
      "name": "python"
    },
    "accelerator": "GPU"
  },
  "cells": [
    {
      "cell_type": "markdown",
      "metadata": {
        "id": "view-in-github",
        "colab_type": "text"
      },
      "source": [
        "<a href=\"https://colab.research.google.com/github/Noob919/Internship/blob/main/sentiment_analysis_using_ktrain.ipynb\" target=\"_parent\"><img src=\"https://colab.research.google.com/assets/colab-badge.svg\" alt=\"Open In Colab\"/></a>"
      ]
    },
    {
      "cell_type": "code",
      "source": [
        "!pip install ktrain"
      ],
      "metadata": {
        "id": "XeFd5DiPVZJI"
      },
      "execution_count": null,
      "outputs": []
    },
    {
      "cell_type": "code",
      "execution_count": 37,
      "metadata": {
        "id": "r8OtzeyKUeoS"
      },
      "outputs": [],
      "source": [
        "import numpy as np\n",
        "import pandas as pd\n",
        "import matplotlib.pyplot as plt\n",
        "import tensorflow as tf\n",
        "from ktrain import text"
      ]
    },
    {
      "cell_type": "code",
      "source": [
        "test_df  = pd.read_csv(\"/content/drive/MyDrive/kaggle/yelp_review_polarity_csv/test.csv\")\n",
        "train_df = pd.read_csv(\"/content/drive/MyDrive/kaggle/yelp_review_polarity_csv/train.csv\")"
      ],
      "metadata": {
        "id": "ZG35a1v-VYOo"
      },
      "execution_count": 38,
      "outputs": []
    },
    {
      "cell_type": "code",
      "source": [
        "test_df.columns = ['Rating', 'Review']\n",
        "train_df.columns = ['Rating', 'Review']"
      ],
      "metadata": {
        "id": "Q7zqrj43WHOM"
      },
      "execution_count": 39,
      "outputs": []
    },
    {
      "cell_type": "code",
      "source": [
        "train_df['Rating'] = train_df['Rating'].replace(2,'pos')\n",
        "test_df['Rating'] = test_df['Rating'].replace(2,'pos')"
      ],
      "metadata": {
        "id": "plOK708PazNY"
      },
      "execution_count": 40,
      "outputs": []
    },
    {
      "cell_type": "code",
      "source": [
        "train_df['Rating'] = train_df['Rating'].replace(1,'neg')\n",
        "test_df['Rating'] = test_df['Rating'].replace(1,'neg')"
      ],
      "metadata": {
        "id": "Ldp4xmLIdRx7"
      },
      "execution_count": 41,
      "outputs": []
    },
    {
      "cell_type": "code",
      "source": [
        "train_df = train_df[:10000]\n",
        "test_df  = test_df[:4000]"
      ],
      "metadata": {
        "id": "64WqTkorWtX-"
      },
      "execution_count": 42,
      "outputs": []
    },
    {
      "cell_type": "code",
      "source": [
        "(X_train, y_train),(X_test, y_test),preprocess = text.texts_from_df(train_df = train_df, \n",
        "                                                                    text_column = 'Review', \n",
        "                                                                    label_columns  = ['Rating'],\n",
        "                                                                    val_df = test_df, \n",
        "                                                                    maxlen = 400, \n",
        "                                                                    preprocess_mode='bert')"
      ],
      "metadata": {
        "id": "KLkgVP_qWf07"
      },
      "execution_count": null,
      "outputs": []
    },
    {
      "cell_type": "code",
      "source": [
        "model = text.text_classifier('bert', (X_train, y_train) , preproc=preprocess)"
      ],
      "metadata": {
        "colab": {
          "base_uri": "https://localhost:8080/"
        },
        "id": "NP0Ye1TcYPRO",
        "outputId": "d3108c87-efbb-4301-bd41-992ce2d729ba"
      },
      "execution_count": 44,
      "outputs": [
        {
          "output_type": "stream",
          "name": "stdout",
          "text": [
            "Is Multi-Label? False\n",
            "maxlen is 400\n",
            "done.\n"
          ]
        }
      ]
    },
    {
      "cell_type": "code",
      "source": [
        "import ktrain"
      ],
      "metadata": {
        "id": "zxX9W7O-egN6"
      },
      "execution_count": 30,
      "outputs": []
    },
    {
      "cell_type": "code",
      "source": [
        "learner = ktrain.get_learner(model, \n",
        "                             train_data=(X_train, y_train), \n",
        "                             val_data=(X_test, y_test), \n",
        "                             batch_size=6)"
      ],
      "metadata": {
        "id": "pyoHJRfTeIGU"
      },
      "execution_count": 45,
      "outputs": []
    },
    {
      "cell_type": "markdown",
      "source": [
        "For 1k rows of training data"
      ],
      "metadata": {
        "id": "Pl1jRJsajAw0"
      }
    },
    {
      "cell_type": "code",
      "source": [
        "learner.fit_onecycle(2e-5, 1)"
      ],
      "metadata": {
        "colab": {
          "base_uri": "https://localhost:8080/"
        },
        "id": "geGmw93webah",
        "outputId": "a86e4425-6742-49ab-d9f2-6b55a040b4bd"
      },
      "execution_count": 35,
      "outputs": [
        {
          "output_type": "stream",
          "name": "stdout",
          "text": [
            "\n",
            "\n",
            "begin training using onecycle policy with max lr of 2e-05...\n",
            "167/167 [==============================] - 294s 2s/step - loss: 0.4493 - accuracy: 0.7750 - val_loss: 0.1637 - val_accuracy: 0.9225\n"
          ]
        },
        {
          "output_type": "execute_result",
          "data": {
            "text/plain": [
              "<keras.callbacks.History at 0x7febf51e1150>"
            ]
          },
          "metadata": {},
          "execution_count": 35
        }
      ]
    },
    {
      "cell_type": "code",
      "source": [
        "predict = ktrain.get_predictor(learner.model, preprocess)"
      ],
      "metadata": {
        "id": "eR11R3hGvNw4"
      },
      "execution_count": 51,
      "outputs": []
    },
    {
      "cell_type": "code",
      "source": [
        "predict.save('/content/drive/MyDrive/kaggle/yelp_review_polarity_csv/')"
      ],
      "metadata": {
        "colab": {
          "base_uri": "https://localhost:8080/"
        },
        "id": "CK14W2sbi4W7",
        "outputId": "5b8737b5-2267-45ec-f0b5-ee257d451896"
      },
      "execution_count": 52,
      "outputs": [
        {
          "output_type": "stream",
          "name": "stderr",
          "text": [
            "/usr/local/lib/python3.7/dist-packages/keras/engine/functional.py:1410: CustomMaskWarning: Custom mask layers require a config and must override get_config. When loading, the custom mask layer must be passed to the custom_objects argument.\n",
            "  layer_config = serialize_layer_fn(layer)\n"
          ]
        }
      ]
    },
    {
      "cell_type": "code",
      "source": [
        ""
      ],
      "metadata": {
        "id": "tJJlbdg5uSsk"
      },
      "execution_count": null,
      "outputs": []
    },
    {
      "cell_type": "code",
      "source": [
        ""
      ],
      "metadata": {
        "id": "E5ycWxNkvzug"
      },
      "execution_count": null,
      "outputs": []
    }
  ]
}